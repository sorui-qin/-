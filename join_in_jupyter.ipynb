{
 "metadata": {
  "language_info": {
   "codemirror_mode": {
    "name": "ipython",
    "version": 3
   },
   "file_extension": ".py",
   "mimetype": "text/x-python",
   "name": "python",
   "nbconvert_exporter": "python",
   "pygments_lexer": "ipython3",
   "version": "3.6.12-final"
  },
  "orig_nbformat": 2,
  "kernelspec": {
   "name": "python3",
   "display_name": "Python 3.6.12 64-bit",
   "metadata": {
    "interpreter": {
     "hash": "18b1dca27538a85da1d405f42011e9fe2ba7067507398046fe53e01d5f8248bb"
    }
   }
  }
 },
 "nbformat": 4,
 "nbformat_minor": 2,
 "cells": [
  {
   "cell_type": "code",
   "execution_count": 3,
   "metadata": {},
   "outputs": [],
   "source": [
    "import utils.join_prototype as join"
   ]
  },
  {
   "cell_type": "code",
   "execution_count": 4,
   "metadata": {},
   "outputs": [
    {
     "output_type": "stream",
     "name": "stdout",
     "text": [
      "6 results saved in 20210322\n6 results saved in 20210322\n"
     ]
    }
   ],
   "source": [
    "join.write_results('CC=CC([*:0])N1CCN(c2cccc(Cl)c2)CC1',r'C:\\Users\\Sorui\\Desktop\\test.txt','20210322')\n",
    "#input format as ('scaffold_smi', r'decoration_file', 'file_name')"
   ]
  }
 ]
}
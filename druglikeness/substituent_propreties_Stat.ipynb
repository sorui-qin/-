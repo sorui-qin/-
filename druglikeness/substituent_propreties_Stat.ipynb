{
 "cells": [
  {
   "cell_type": "code",
   "execution_count": 35,
   "source": [
    "import pandas\r\n",
    "import os\r\n",
    "import rdkit.Chem as rkc\r\n",
    "from rdkit.Chem import Crippen\r\n",
    "from rdkit.Chem import Lipinski\r\n",
    "from rdkit.Chem import Descriptors\r\n",
    "from rdkit.Chem import Draw"
   ],
   "outputs": [],
   "metadata": {}
  },
  {
   "cell_type": "code",
   "execution_count": 36,
   "source": [
    "sca_smi='NC1=NC(CC2=CC=CC=C2)=CN3C1=NC4=C3C=CC=C4'\r\n",
    "sca_mol = rkc.MolFromSmiles(sca_smi)"
   ],
   "outputs": [],
   "metadata": {}
  },
  {
   "cell_type": "code",
   "execution_count": 37,
   "source": [
    "with open(r'D:\\Research\\A2B\\subtituents\\L6sub-HTVS.smi', 'r') as f:\r\n",
    "    sta_set = f.read()\r\n",
    "    sta_set = sta_set.split('\\n')\r\n",
    "    sta_set = [i.split(' ')[0] for i in sta_set]"
   ],
   "outputs": [],
   "metadata": {}
  },
  {
   "cell_type": "code",
   "execution_count": 39,
   "source": [
    "def sub_slice(smi):\r\n",
    "    mol = rkc.MolFromSmiles(smi)\r\n",
    "    sliced_mol=rkc.DeleteSubstructs(mol,sca_mol)\r\n",
    "    return rkc.MolToSmiles(sliced_mol)\r\n",
    "\r\n",
    "def mole_proper(mol):\r\n",
    "    num_hdonors = Lipinski.NumHDonors(mol)\r\n",
    "    num_hacceptors = Lipinski.NumHAcceptors(mol)\r\n",
    "    num_rotatable = Lipinski.NumRotatableBonds(mol)\r\n",
    "    num_aromatic = Lipinski.NumAromaticRings(mol)\r\n",
    "    mol_weight = Descriptors.MolWt(mol)\r\n",
    "    mol_logp = Crippen.MolLogP(mol)\r\n",
    "    mol_TPSA = Descriptors.TPSA(mol)\r\n",
    "    proper= [rkc.MolToSmiles(mol),num_hdonors, num_hacceptors, num_rotatable, num_aromatic, mol_weight, mol_logp, mol_TPSA]\r\n",
    "    return proper\r\n",
    "\r\n",
    "def save_excel(proper_list):\r\n",
    "    df = pandas.DataFrame(proper_list, columns=['SMILES','HBD', 'HBA', 'Rotatable bones', 'Aromatic Rings','Mol Weight', 'LogP', 'TPSA'])\r\n",
    "    df.to_excel('SubstituentsProperties.xlsx', index=None)"
   ],
   "outputs": [],
   "metadata": {}
  },
  {
   "cell_type": "code",
   "execution_count": 40,
   "source": [
    "slice_li = [sub_slice(smi) for smi in sta_set]\r\n"
   ],
   "outputs": [],
   "metadata": {}
  },
  {
   "cell_type": "code",
   "execution_count": 25,
   "source": [
    "proper_list=[]\r\n",
    "for smi in slice_li:\r\n",
    "    mol = rkc.MolFromSmiles(smi)\r\n",
    "    proper = mole_proper(mol)\r\n",
    "    proper_list.append(proper)\r\n",
    "save_excel(proper_list)"
   ],
   "outputs": [],
   "metadata": {}
  },
  {
   "cell_type": "code",
   "execution_count": 41,
   "source": [
    "file_name='R6'\r\n",
    "os.mkdir(file_name + \"_substituents_img\")\r\n",
    "for i, smile in enumerate(slice_li):\r\n",
    "    if i <= 100:\r\n",
    "        mol = rkc.MolFromSmiles(smile)\r\n",
    "        Draw.MolToFile(mol, file_name + \"_substituents_img/\" + str(i) + \".png\", size=(600, 600) , legend=smile)"
   ],
   "outputs": [],
   "metadata": {}
  }
 ],
 "metadata": {
  "orig_nbformat": 4,
  "language_info": {
   "name": "python",
   "version": "3.6.13",
   "mimetype": "text/x-python",
   "codemirror_mode": {
    "name": "ipython",
    "version": 3
   },
   "pygments_lexer": "ipython3",
   "nbconvert_exporter": "python",
   "file_extension": ".py"
  },
  "kernelspec": {
   "name": "python3",
   "display_name": "Python 3.6.13 64-bit ('my-rdkit-env': conda)"
  },
  "interpreter": {
   "hash": "18b1dca27538a85da1d405f42011e9fe2ba7067507398046fe53e01d5f8248bb"
  }
 },
 "nbformat": 4,
 "nbformat_minor": 2
}
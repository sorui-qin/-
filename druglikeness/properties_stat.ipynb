{
 "metadata": {
  "language_info": {
   "codemirror_mode": {
    "name": "ipython",
    "version": 3
   },
   "file_extension": ".py",
   "mimetype": "text/x-python",
   "name": "python",
   "nbconvert_exporter": "python",
   "pygments_lexer": "ipython3",
   "version": "3.6.13"
  },
  "orig_nbformat": 4,
  "kernelspec": {
   "name": "python3",
   "display_name": "Python 3.6.13 64-bit ('my-rdkit-env': conda)"
  },
  "interpreter": {
   "hash": "18b1dca27538a85da1d405f42011e9fe2ba7067507398046fe53e01d5f8248bb"
  }
 },
 "nbformat": 4,
 "nbformat_minor": 2,
 "cells": [
  {
   "cell_type": "code",
   "execution_count": 5,
   "metadata": {},
   "outputs": [],
   "source": [
    "import pandas\n",
    "import rdkit.Chem as rkc\n",
    "from rdkit.Chem import Crippen\n",
    "from rdkit.Chem import Lipinski\n",
    "from rdkit.Chem import Descriptors"
   ]
  },
  {
   "cell_type": "code",
   "execution_count": null,
   "metadata": {},
   "outputs": [],
   "source": [
    "with open(r'D:\\Research\\A2B\\subtituents\\L6sub-HTVS.smi', 'r') as f:\n",
    "    sta_set=f.read()\n",
    "    sta_set=sta_set.split('\\n')\n",
    "sta_set"
   ]
  },
  {
   "cell_type": "code",
   "execution_count": 6,
   "metadata": {},
   "outputs": [],
   "source": [
    "def mole_proper(mol):\n",
    "    num_hdonors = Lipinski.NumHDonors(mol)\n",
    "    num_hacceptors = Lipinski.NumHAcceptors(mol)\n",
    "    num_rotatable = Lipinski.NumRotatableBonds(mol)\n",
    "    num_aromatic = Lipinski.NumAromaticRings(mol)\n",
    "    mol_weight = Descriptors.MolWt(mol)\n",
    "    mol_logp = Crippen.MolLogP(mol)\n",
    "    mol_TPSA = Descriptors.TPSA(mol)\n",
    "    proper= [num_hdonors, num_hacceptors, num_rotatable, num_aromatic, mol_weight, mol_logp, mol_TPSA]\n",
    "    return proper\n",
    "\n",
    "def save_excel(proper_list):\n",
    "    df = pandas.DataFrame(proper_list, columns=['HBD', 'HBA', 'Rotatable bones', 'Mol Weight', 'LogP', 'TPSA'])\n",
    "    df.to_excel('MoleculesProperties.xlsx', index=None)\n",
    "\n",
    "def main():\n",
    "    proper_list=[]\n",
    "    for smi in sta_set:\n",
    "        mol = rkc.MolFromSmiles(smi)\n",
    "        proper = mole_proper(mol)\n",
    "        proper_list.append(proper)\n",
    "\n",
    "    save_excel(proper_list)"
   ]
  },
  {
   "cell_type": "code",
   "execution_count": 9,
   "metadata": {},
   "outputs": [
    {
     "output_type": "execute_result",
     "data": {
      "text/plain": [
       "[2, 3, 1, 1, 136.134, -1.1403000000000003, 68.01]"
      ]
     },
     "metadata": {},
     "execution_count": 9
    }
   ],
   "source": [
    "mole_proper(rkc.MolFromSmiles('[*]c1cc(C(=O)NN)ccn1'))"
   ]
  },
  {
   "cell_type": "code",
   "execution_count": null,
   "metadata": {},
   "outputs": [],
   "source": []
  }
 ]
}
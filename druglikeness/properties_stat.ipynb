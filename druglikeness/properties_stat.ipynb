{
 "metadata": {
  "language_info": {
   "codemirror_mode": {
    "name": "ipython",
    "version": 3
   },
   "file_extension": ".py",
   "mimetype": "text/x-python",
   "name": "python",
   "nbconvert_exporter": "python",
   "pygments_lexer": "ipython3",
   "version": "3.6.13"
  },
  "orig_nbformat": 4,
  "kernelspec": {
   "name": "python3",
   "display_name": "Python 3.6.13 64-bit ('my-rdkit-env': conda)"
  },
  "interpreter": {
   "hash": "18b1dca27538a85da1d405f42011e9fe2ba7067507398046fe53e01d5f8248bb"
  }
 },
 "nbformat": 4,
 "nbformat_minor": 2,
 "cells": [
  {
   "cell_type": "code",
   "execution_count": 1,
   "metadata": {},
   "outputs": [],
   "source": [
    "import pandas\n",
    "import rdkit.Chem as rkc\n",
    "from rdkit.Chem import Crippen\n",
    "from rdkit.Chem import Lipinski\n",
    "from rdkit.Chem import Descriptors"
   ]
  },
  {
   "cell_type": "code",
   "execution_count": 2,
   "metadata": {},
   "outputs": [
    {
     "output_type": "execute_result",
     "data": {
      "text/plain": [
       "['ClC1=CC(C2=NC(C3=CC=CO3)=NN2C(N)=N4)=C4C=C1',\n",
       " 'OC1=CC=C(CCNC2=NC3=NC(C4=CC=CO4)=NN3C(N)=N2)C=C1',\n",
       " 'NC1=NC2=NN(C=C2C3=NC(C4=CC=CO4)=NN31)CCC5=CC=CC=C5',\n",
       " 'NC1=NC2=NN(CCC(C)C)C=C2C3=NC(C4=CC=CO4)=NN31',\n",
       " 'O=C(CC1=CC=CC2=C1C=CC=C2)NC3=NC4=NN(C=C4C5=NC(C6=CC=CO6)=NN53)CCCC7=CC=CC=C7',\n",
       " 'O=C1C(C2=CC=CC=C2)=NN=C(N1C3=C4C=CC(Cl)=C3)N4C5=CC=CC=C5',\n",
       " 'CCN(C(C)=O)C1=C(SC(NC(N2CCC(S(C3=CC=CC(C(F)(F)F)=C3)(=O)=O)CC2)=O)=N4)C4=C(OC)C=C1',\n",
       " 'CCN(C(C)=O)C1=C(SC(NC(C2=CC=NN2C)=O)=N3)C3=C(OC)C=C1',\n",
       " 'CC(NCCNC1=C2C(NC(C(N3CCN(CCCC4=CC=CC=C4)CC3)=O)=C2)=NC(C5=CC=CC=C5)=N1)=O',\n",
       " 'CNC1=CC2=NC(NCC3=CN=CC=C3)=NC(C(C4=CC=CS4)=O)=C2S1',\n",
       " 'O=C(C(C1=NC=CS1)=C2CCC3=CC=CC=C3)NC(C2=C4)=CC=C4OCC(NC(C)(C)C5=CC=CC=C5)=O',\n",
       " 'O=C(C1CC1)NC(N=C2C3=CN=CC=C3)=CN=C2C4=CC=NC=C4F',\n",
       " 'C1(C2=NC=NC=C2)=C(C3=CC=CO3)N=C(NC4=CN=CC=C4)N=C1',\n",
       " 'O=C(C1CC1)NC2=NC(C3=CC=CO3)=C(C4=NC=NC=C4)C=N2',\n",
       " 'CC1=NC=CN1C(SC(NC2=CN=CC=N2)=N3)=C3C4=CC(C#N)=CC=C4',\n",
       " 'O=C1NC2=NC(C3=CC=CO3)=C(C4=NC=NC=C4)C=C2N1C',\n",
       " 'S=C1NC(C2=CC=CO2)C(C(OC(C)C)=O)=C(C)N1',\n",
       " 'CC1=C(C(OC(C)C)=O)C(C2=CC=CO2)N/C(N1)=N\\\\C#N',\n",
       " 'CC1=C(C(OC(C)C)=O)C(C2=CC=CO2)N3C(N1)=NC4=C3C=CC=C4']"
      ]
     },
     "metadata": {},
     "execution_count": 2
    }
   ],
   "source": [
    "with open(r'D:\\科研\\大创\\论文\\Self\\A2B antagonists\\antagonists\\smiles.txt', 'r') as f:\n",
    "    sta_set=f.read()\n",
    "    sta_set=sta_set.split('\\n')\n",
    "sta_set"
   ]
  },
  {
   "cell_type": "code",
   "execution_count": 5,
   "metadata": {},
   "outputs": [],
   "source": [
    "def mole_proper(mol):\n",
    "    num_hdonors = Lipinski.NumHDonors(mol)\n",
    "    num_hacceptors = Lipinski.NumHAcceptors(mol)\n",
    "    num_rotatable = Lipinski.NumRotatableBonds(mol)\n",
    "    mol_weight = Descriptors.MolWt(mol)\n",
    "    mol_logp = Crippen.MolLogP(mol)\n",
    "    mol_TPSA = Descriptors.TPSA(mol)\n",
    "    proper= [num_hdonors, num_hacceptors, num_rotatable, mol_weight, mol_logp, mol_TPSA]\n",
    "    return proper\n",
    "\n",
    "def save_excel(proper_list):\n",
    "    df = pandas.DataFrame(proper_list, columns=['HBD', 'HBA', 'Rotatable bones', 'Mol Weight', 'LogP', 'TPSA'])\n",
    "    df.to_excel('MoleculesProperties.xlsx', index=None)\n",
    "\n",
    "def main():\n",
    "    proper_list=[]\n",
    "    for smi in sta_set:\n",
    "        mol = rkc.MolFromSmiles(smi)\n",
    "        proper = mole_proper(mol)\n",
    "        proper_list.append(proper)\n",
    "\n",
    "    save_excel(proper_list)"
   ]
  },
  {
   "cell_type": "code",
   "execution_count": 6,
   "metadata": {},
   "outputs": [],
   "source": [
    "main()"
   ]
  },
  {
   "cell_type": "code",
   "execution_count": null,
   "metadata": {},
   "outputs": [],
   "source": []
  }
 ]
}